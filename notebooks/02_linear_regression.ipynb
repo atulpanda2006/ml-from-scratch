{
  "cells": [
    {
      "cell_type": "markdown",
      "metadata": {
        "id": "895syOXchVDk"
      },
      "source": [
        "# Linear Regression"
      ]
    },
    {
      "cell_type": "code",
      "execution_count": null,
      "metadata": {
        "id": "cIa7PkqEDXQO"
      },
      "outputs": [],
      "source": [
        "import numpy as np\n",
        "import pandas as pd\n",
        "from sklearn.datasets import load_diabetes\n",
        "from sklearn.metrics import mean_squared_error, mean_absolute_error, root_mean_squared_error, r2_score\n",
        "import matplotlib.pyplot as plt\n",
        "import seaborn as sns"
      ]
    },
    {
      "cell_type": "markdown",
      "metadata": {
        "id": "O4Xwp5KpI1oB"
      },
      "source": [
        "## Simple Linear Regression\n",
        "\n",
        "$y = b_0 + b_1 X$\n",
        "\n",
        "$b_0$ - intercept\n",
        "\n",
        "$b_1$ - slope coefficient"
      ]
    },
    {
      "cell_type": "code",
      "execution_count": null,
      "metadata": {
        "id": "NBF7cdjeDi8i"
      },
      "outputs": [],
      "source": [
        "# X - area, y - price\n",
        "X = np.array([40, 60, 50, 80, 200, 150, 75, 45, 140, 100, 120, 165, 135])\n",
        "y = np.array([100000, 120000, 125000, 150000, 300000, 220000, 105000, 110000, 200000, 100000, 165000, 240000, 230000])"
      ]
    },
    {
      "cell_type": "code",
      "execution_count": null,
      "metadata": {
        "colab": {
          "base_uri": "https://localhost:8080/",
          "height": 449
        },
        "id": "Y8Rx4lisEySm",
        "outputId": "fb7b32d5-5833-4695-8dac-f320fe966371"
      },
      "outputs": [],
      "source": [
        "plt.scatter(X, y)\n",
        "plt.xlabel(\"Area\")\n",
        "plt.ylabel(\"Price\")\n",
        "plt.show()"
      ]
    },
    {
      "cell_type": "code",
      "execution_count": null,
      "metadata": {
        "colab": {
          "base_uri": "https://localhost:8080/",
          "height": 435
        },
        "id": "WmbOI7qfFiii",
        "outputId": "7a9ab300-4641-499e-ab03-270ae65478ba"
      },
      "outputs": [],
      "source": [
        "sns.heatmap(np.corrcoef(X, y), annot=True, fmt=\".2f\", cmap=\"crest\")\n",
        "plt.show()"
      ]
    },
    {
      "cell_type": "markdown",
      "metadata": {
        "id": "aNOSPvIOIn9X"
      },
      "source": [
        "$b_1 = \\frac{\\operatorname{Cov}(X, Y)}{\\operatorname{Var}(X)}$\n",
        "\n",
        "$b_1 = \\frac{\\sum_{i=1}^{n} \\left(x_i - \\bar{x}\\right)\\left(y_i - \\bar{y}\\right)}{\\sum_{i=1}^{n} \\left(x_i - \\bar{x}\\right)^2}$"
      ]
    },
    {
      "cell_type": "code",
      "execution_count": null,
      "metadata": {
        "colab": {
          "base_uri": "https://localhost:8080/"
        },
        "id": "YHnUepi4H8eQ",
        "outputId": "37214b8b-b43f-4ad6-eabd-6abf3164bf7c"
      },
      "outputs": [],
      "source": [
        "b1 = sum((X - X.mean()) * (y - y.mean())) / sum((X - X.mean())**2)\n",
        "b1"
      ]
    },
    {
      "cell_type": "code",
      "execution_count": null,
      "metadata": {
        "colab": {
          "base_uri": "https://localhost:8080/"
        },
        "id": "EKSxykk4JxE-",
        "outputId": "c7b232fc-c3af-4d99-e9b4-f14ead69931e"
      },
      "outputs": [],
      "source": [
        "b0 = y.mean() - b1 * X.mean()\n",
        "b0"
      ]
    },
    {
      "cell_type": "code",
      "execution_count": null,
      "metadata": {
        "colab": {
          "base_uri": "https://localhost:8080/"
        },
        "id": "iXgNvW5gKrwS",
        "outputId": "ed4ee54e-1edb-43f9-a747-7d8e9db9a6a4"
      },
      "outputs": [],
      "source": [
        "y_pred = b0 + b1 * X\n",
        "y_pred"
      ]
    },
    {
      "cell_type": "code",
      "execution_count": null,
      "metadata": {
        "colab": {
          "base_uri": "https://localhost:8080/",
          "height": 449
        },
        "id": "SbGEEf7QK7mN",
        "outputId": "64ce156c-2c24-4cb3-f584-6704a2e9be8d"
      },
      "outputs": [],
      "source": [
        "plt.scatter(X, y)\n",
        "plt.plot(X, y_pred, c=\"r\", label=\"Linear regression\")\n",
        "plt.xlabel(\"Area\")\n",
        "plt.ylabel(\"Price\")\n",
        "plt.legend()\n",
        "plt.show()"
      ]
    },
    {
      "cell_type": "code",
      "execution_count": null,
      "metadata": {
        "colab": {
          "base_uri": "https://localhost:8080/"
        },
        "id": "OYX_gBdQLuYA",
        "outputId": "a8bdcca3-afdc-4def-8e4b-39e1eb75f828"
      },
      "outputs": [],
      "source": [
        "X_test = np.array([50, 100, 150, 200, 250])\n",
        "y_pred = b0 + b1 * X_test\n",
        "y_pred"
      ]
    },
    {
      "cell_type": "code",
      "execution_count": null,
      "metadata": {
        "colab": {
          "base_uri": "https://localhost:8080/",
          "height": 454
        },
        "id": "uFCMGRhQLwWm",
        "outputId": "13c5b405-6435-4c91-e174-70ff5921d321"
      },
      "outputs": [],
      "source": [
        "plt.scatter(X, y)\n",
        "plt.scatter(X_test, y_pred, label=\"Predicted values\")\n",
        "plt.xlabel(\"Area\")\n",
        "plt.ylabel(\"Price\")\n",
        "plt.legend()\n",
        "plt.show()"
      ]
    },
    {
      "cell_type": "markdown",
      "metadata": {
        "id": "sTYRJ3ZgR7vD"
      },
      "source": [
        "## Multiple Linear Regression\n",
        "\n",
        "$y = b_0 + b_1 X_1 + b_2 X_2 + \\dots + b_n X_n = b^\\top X$"
      ]
    },
    {
      "cell_type": "code",
      "execution_count": null,
      "metadata": {
        "colab": {
          "base_uri": "https://localhost:8080/"
        },
        "id": "GwIWwwqiS1VS",
        "outputId": "65df16b5-6320-4b30-f0d7-9a95c4f3802f"
      },
      "outputs": [],
      "source": [
        "diabetes = load_diabetes()\n",
        "diabetes.feature_names"
      ]
    },
    {
      "cell_type": "code",
      "execution_count": null,
      "metadata": {
        "colab": {
          "base_uri": "https://localhost:8080/"
        },
        "id": "SHEgYYWBRwmK",
        "outputId": "2922b26d-40e6-473f-ab02-6819bfb26ba2"
      },
      "outputs": [],
      "source": [
        "X = diabetes.data[:, [0, 1, 2]]\n",
        "y = diabetes.target\n",
        "X.shape, y.shape"
      ]
    },
    {
      "cell_type": "code",
      "execution_count": null,
      "metadata": {
        "colab": {
          "base_uri": "https://localhost:8080/",
          "height": 435
        },
        "id": "B1FEY2zKX0KG",
        "outputId": "b0bc67a7-baa1-479b-9710-7d544a1e1d40"
      },
      "outputs": [],
      "source": [
        "labels = [diabetes.feature_names[i] for i in [0, 1, 2]] + [\"target\"]\n",
        "df = pd.DataFrame(np.hstack((X, y.reshape(-1, 1))), columns=labels)\n",
        "sns.heatmap(df.corr(), annot=True, fmt=\".2f\", cmap=\"crest\")\n",
        "plt.show()"
      ]
    },
    {
      "cell_type": "markdown",
      "metadata": {
        "id": "yBtFJGBUTBog"
      },
      "source": [
        "$b = \\left( X^\\top X \\right)^{-1} X^\\top y$"
      ]
    },
    {
      "cell_type": "code",
      "execution_count": null,
      "metadata": {
        "colab": {
          "base_uri": "https://localhost:8080/"
        },
        "id": "mVL7qusUVp_R",
        "outputId": "fac69b28-a393-41d7-bda8-dae615095e75"
      },
      "outputs": [],
      "source": [
        "X = np.hstack((np.ones((X.shape[0], 1)), X))\n",
        "X"
      ]
    },
    {
      "cell_type": "code",
      "execution_count": null,
      "metadata": {
        "colab": {
          "base_uri": "https://localhost:8080/"
        },
        "id": "CSUZViUIS8HN",
        "outputId": "bab5e516-1b97-4b9d-ddb9-4be6d75bb1dc"
      },
      "outputs": [],
      "source": [
        "b = np.linalg.inv(X.T @ X) @ X.T @ y\n",
        "b"
      ]
    },
    {
      "cell_type": "code",
      "execution_count": null,
      "metadata": {
        "colab": {
          "base_uri": "https://localhost:8080/"
        },
        "id": "xKsH9JDcVYFX",
        "outputId": "ed36fb4a-206f-4c23-bbc2-edd4217bb70c"
      },
      "outputs": [],
      "source": [
        "y_pred = X @ b\n",
        "y_pred[:10]"
      ]
    },
    {
      "cell_type": "markdown",
      "metadata": {
        "id": "YmV_FbgK9PJB"
      },
      "source": [
        "$MAE = \\frac{1}{n} \\sum |y_i - \\hat{y}_i|$"
      ]
    },
    {
      "cell_type": "code",
      "execution_count": null,
      "metadata": {
        "colab": {
          "base_uri": "https://localhost:8080/"
        },
        "id": "chwCopV88sWY",
        "outputId": "9141541a-0574-4dd6-9ba4-e9ba429aa566"
      },
      "outputs": [],
      "source": [
        "print(f\"MAE: {mean_absolute_error(y, y_pred):.6f}\")"
      ]
    },
    {
      "cell_type": "markdown",
      "metadata": {
        "id": "2r96D1-c9Ykh"
      },
      "source": [
        "$MSE = {\\frac{1}{n} \\sum (y_i - \\hat{y}_i)^2}$"
      ]
    },
    {
      "cell_type": "code",
      "execution_count": null,
      "metadata": {
        "colab": {
          "base_uri": "https://localhost:8080/"
        },
        "id": "wjDzvsJU8s9n",
        "outputId": "479e52d8-43b9-4b7d-e14b-af82fd736f5f"
      },
      "outputs": [],
      "source": [
        "print(f\"MSE: {mean_squared_error(y, y_pred):.6f}\")"
      ]
    },
    {
      "cell_type": "markdown",
      "metadata": {
        "id": "f-3Qr_Cr9S-Q"
      },
      "source": [
        "$RMSE = \\sqrt{\\frac{1}{n} \\sum (y_i - \\hat{y}_i)^2}$"
      ]
    },
    {
      "cell_type": "code",
      "execution_count": null,
      "metadata": {
        "colab": {
          "base_uri": "https://localhost:8080/"
        },
        "id": "3VWnJQx38Ohe",
        "outputId": "17b688fc-ad24-4a4c-c0b0-94c81c87544a"
      },
      "outputs": [],
      "source": [
        "print(f\"RMSE: {root_mean_squared_error(y, y_pred):.6f}\")"
      ]
    },
    {
      "cell_type": "markdown",
      "metadata": {
        "id": "xu9JpC1wgObe"
      },
      "source": [
        "$R^2 = 1 - \\frac{SS_{res}}{SS_{tot}}$\n",
        "\n",
        "$SS_{res} = \\sum (y_i - \\hat{y}_i)^2$\n",
        "\n",
        "$SS_{tot} = \\sum (y_i - \\bar{y})^2$"
      ]
    },
    {
      "cell_type": "code",
      "execution_count": null,
      "metadata": {
        "colab": {
          "base_uri": "https://localhost:8080/"
        },
        "id": "QlRNuWQnW0j2",
        "outputId": "8cf93fda-0d75-4f84-95c7-a3888d604f13"
      },
      "outputs": [],
      "source": [
        "print(f\"R^2: {r2_score(y, y_pred):.6f}\")"
      ]
    },
    {
      "cell_type": "markdown",
      "metadata": {
        "id": "4LD121-CkNFy"
      },
      "source": [
        "# Student Performance (Multiple Linear Regression)\n",
        "\n",
        "[Student Performance Dataset on Kaggle](https://www.kaggle.com/datasets/nikhil7280/student-performance-multiple-linear-regression)"
      ]
    },
    {
      "cell_type": "code",
      "execution_count": null,
      "metadata": {
        "id": "Jpp1VBRLl21_"
      },
      "outputs": [],
      "source": [
        "from sklearn.model_selection import train_test_split\n",
        "from sklearn.preprocessing import StandardScaler\n",
        "from sklearn.linear_model import LinearRegression"
      ]
    },
    {
      "cell_type": "code",
      "execution_count": null,
      "metadata": {
        "colab": {
          "base_uri": "https://localhost:8080/",
          "height": 204
        },
        "id": "5RJrsDSJkMZE",
        "outputId": "f5a76e31-4c98-4d21-da7e-1cc687c5ecaa"
      },
      "outputs": [],
      "source": [
        "df = pd.read_csv(\"../data/Student_Performance.csv\")\n",
        "df.head()"
      ]
    },
    {
      "cell_type": "code",
      "execution_count": null,
      "metadata": {
        "colab": {
          "base_uri": "https://localhost:8080/"
        },
        "id": "ccdnRDIFlDV2",
        "outputId": "331e2049-917d-4a23-ece2-44c63db1b5cc"
      },
      "outputs": [],
      "source": [
        "df.info()"
      ]
    },
    {
      "cell_type": "code",
      "execution_count": null,
      "metadata": {
        "colab": {
          "base_uri": "https://localhost:8080/",
          "height": 660
        },
        "id": "c2sSYlLw2WB_",
        "outputId": "b5e9c862-d9e0-4ab0-cdc1-ea53b5eb92f5"
      },
      "outputs": [],
      "source": [
        "df_num = df.select_dtypes(include=[\"number\"])\n",
        "sns.heatmap(df_num.corr(), annot=True, fmt=\".2f\", cmap=\"crest\")\n",
        "plt.show()"
      ]
    },
    {
      "cell_type": "code",
      "execution_count": null,
      "metadata": {
        "colab": {
          "base_uri": "https://localhost:8080/",
          "height": 853
        },
        "id": "9PB6GAcL2j38",
        "outputId": "d11750c6-e2bd-4517-f47d-ec0fcb403131"
      },
      "outputs": [],
      "source": [
        "plt.figure(figsize=(12, 10))\n",
        "\n",
        "plt.subplot(221)\n",
        "plt.title(\"Previous Scores\")\n",
        "plt.hist(df_num[\"Previous Scores\"], bins=30)\n",
        "\n",
        "plt.subplot(222)\n",
        "plt.title(\"Performance Index\")\n",
        "plt.hist(df_num[\"Performance Index\"], bins=30)\n",
        "\n",
        "plt.subplot(223)\n",
        "plt.title(\"Hours Studied\")\n",
        "plt.hist(df_num[\"Hours Studied\"], bins=9)\n",
        "\n",
        "plt.subplot(224)\n",
        "plt.title(\"Sleep Hours\")\n",
        "plt.hist(df_num[\"Sleep Hours\"], bins=9)\n",
        "\n",
        "plt.show()"
      ]
    },
    {
      "cell_type": "code",
      "execution_count": null,
      "metadata": {
        "id": "HRQ8D6c6l1lJ"
      },
      "outputs": [],
      "source": [
        "X = np.array(df_num[\"Previous Scores\"])\n",
        "y = np.array(df_num[\"Performance Index\"])\n",
        "\n",
        "X_train, X_test, y_train, y_test = train_test_split(X, y, test_size=0.2, random_state=42)"
      ]
    },
    {
      "cell_type": "code",
      "execution_count": null,
      "metadata": {
        "colab": {
          "base_uri": "https://localhost:8080/"
        },
        "id": "LUPbTXPpnmKJ",
        "outputId": "4c7ebb0e-285c-4c65-c7ba-8e0683b672a0"
      },
      "outputs": [],
      "source": [
        "model = LinearRegression()\n",
        "model.fit(X_train.reshape(-1, 1), y_train)\n",
        "model.intercept_, model.coef_"
      ]
    },
    {
      "cell_type": "code",
      "execution_count": null,
      "metadata": {
        "colab": {
          "base_uri": "https://localhost:8080/"
        },
        "id": "5UDmyZrlos0P",
        "outputId": "7bbeddf8-7ff5-4a21-c8a0-f28346b751ec"
      },
      "outputs": [],
      "source": [
        "y_pred = model.predict(X_train.reshape(-1, 1))\n",
        "y_pred"
      ]
    },
    {
      "cell_type": "code",
      "execution_count": null,
      "metadata": {
        "colab": {
          "base_uri": "https://localhost:8080/",
          "height": 449
        },
        "id": "ReZHPmAjpO03",
        "outputId": "79704c75-5357-4b15-bb38-02b1fd365189"
      },
      "outputs": [],
      "source": [
        "plt.scatter(X_train, y_train, label=\"Train data\")\n",
        "plt.plot(X_train, y_pred, c=\"r\", label=\"Linear Regression\")\n",
        "plt.xlabel(\"Performance Index\")\n",
        "plt.ylabel(\"Previous Scores\")\n",
        "plt.legend()\n",
        "plt.show()"
      ]
    },
    {
      "cell_type": "markdown",
      "metadata": {
        "id": "I8NsAWXP8BOa"
      },
      "source": [
        "$x' = \\frac{x - \\mu}{\\sigma}$"
      ]
    },
    {
      "cell_type": "code",
      "execution_count": null,
      "metadata": {
        "id": "DXXS0MeFvaLz"
      },
      "outputs": [],
      "source": [
        "scaler = StandardScaler()\n",
        "data_std = scaler.fit_transform(df_num)\n",
        "\n",
        "X = data_std[:, :-1]\n",
        "y = data_std[:, -1]\n",
        "\n",
        "X_train, X_test, y_train, y_test = train_test_split(X, y, test_size=0.2, random_state=42)"
      ]
    },
    {
      "cell_type": "code",
      "execution_count": null,
      "metadata": {
        "colab": {
          "base_uri": "https://localhost:8080/"
        },
        "id": "Jq8hYrYlwIeM",
        "outputId": "9c2d4eac-a6ce-47e3-8202-5dab2e1078a0"
      },
      "outputs": [],
      "source": [
        "model.fit(X_train, y_train)\n",
        "model.intercept_, model.coef_"
      ]
    },
    {
      "cell_type": "code",
      "execution_count": null,
      "metadata": {
        "id": "nDK01qiry5Vp"
      },
      "outputs": [],
      "source": [
        "y_pred = model.predict(X_test)"
      ]
    },
    {
      "cell_type": "code",
      "execution_count": null,
      "metadata": {
        "colab": {
          "base_uri": "https://localhost:8080/"
        },
        "id": "llXXsy28zCAp",
        "outputId": "38434c62-6356-490b-a250-bc29d481280c"
      },
      "outputs": [],
      "source": [
        "print(f\"MAE: {mean_absolute_error(y_test, y_pred):.6f}\")\n",
        "print(f\"MSE: {mean_squared_error(y_test, y_pred):.6f}\")\n",
        "print(f\"RMSE: {root_mean_squared_error(y_test, y_pred):.6f}\")\n",
        "print(f\"R^2: {r2_score(y_test, y_pred):.6f}\")"
      ]
    }
  ],
  "metadata": {
    "colab": {
      "provenance": []
    },
    "kernelspec": {
      "display_name": "ai-from-scratch",
      "language": "python",
      "name": "python3"
    },
    "language_info": {
      "codemirror_mode": {
        "name": "ipython",
        "version": 3
      },
      "file_extension": ".py",
      "mimetype": "text/x-python",
      "name": "python",
      "nbconvert_exporter": "python",
      "pygments_lexer": "ipython3",
      "version": "3.11.11"
    }
  },
  "nbformat": 4,
  "nbformat_minor": 0
}
