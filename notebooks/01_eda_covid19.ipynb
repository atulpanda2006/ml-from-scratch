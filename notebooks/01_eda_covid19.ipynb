{
  "cells": [
    {
      "cell_type": "markdown",
      "metadata": {
        "id": "Jk6jkyubeOPy"
      },
      "source": [
        "# Exploratory Data Analysis of COVID-19 Dataset\n",
        "\n",
        "[COVID-19 Dataset on Kaggle](https://www.kaggle.com/datasets/imdevskp/corona-virus-report)"
      ]
    },
    {
      "cell_type": "code",
      "execution_count": null,
      "metadata": {
        "id": "t5qjfFgiIGpc"
      },
      "outputs": [],
      "source": [
        "import pandas as pd\n",
        "import matplotlib.pyplot as plt\n",
        "import seaborn as sns"
      ]
    },
    {
      "cell_type": "markdown",
      "metadata": {
        "id": "8oSME0FXYatP"
      },
      "source": [
        "## Country Wise Latest"
      ]
    },
    {
      "cell_type": "code",
      "execution_count": null,
      "metadata": {
        "colab": {
          "base_uri": "https://localhost:8080/"
        },
        "id": "18LTd9ERImUp",
        "outputId": "f9eaabea-3466-4bab-9c2c-401851fe3cfb"
      },
      "outputs": [],
      "source": [
        "df = pd.read_csv(\"../data/covid19/country_wise_latest.csv\")\n",
        "df.info()"
      ]
    },
    {
      "cell_type": "code",
      "execution_count": null,
      "metadata": {
        "colab": {
          "base_uri": "https://localhost:8080/",
          "height": 255
        },
        "id": "wRfzBF6iIxg1",
        "outputId": "b512d6e4-81e9-4b93-99b3-9665f12d51b0"
      },
      "outputs": [],
      "source": [
        "df.head()"
      ]
    },
    {
      "cell_type": "code",
      "execution_count": null,
      "metadata": {
        "colab": {
          "base_uri": "https://localhost:8080/",
          "height": 452
        },
        "id": "fDOgJrYNJbAi",
        "outputId": "088bdde0-9e0f-4e86-9783-f2525685862a"
      },
      "outputs": [],
      "source": [
        "df.describe().T"
      ]
    },
    {
      "cell_type": "code",
      "execution_count": null,
      "metadata": {
        "colab": {
          "base_uri": "https://localhost:8080/",
          "height": 238
        },
        "id": "DbB9wGXBJ56q",
        "outputId": "3d779469-a7fe-4211-b96b-4fba0b1f1fe4"
      },
      "outputs": [],
      "source": [
        "df1 = df[df[\"Country/Region\"].apply(lambda x: x in [\"Slovakia\", \"Poland\", \"Ukraine\", \"Germany\", \"Greece\"])].copy()\n",
        "df1"
      ]
    },
    {
      "cell_type": "code",
      "execution_count": null,
      "metadata": {
        "colab": {
          "base_uri": "https://localhost:8080/",
          "height": 430
        },
        "id": "mQT-WTHRMKbg",
        "outputId": "dd5b174a-cc21-40c8-c201-6baca98bacd6"
      },
      "outputs": [],
      "source": [
        "plt.bar(df1[\"Country/Region\"], df1[\"Confirmed\"])\n",
        "plt.show()"
      ]
    },
    {
      "cell_type": "code",
      "execution_count": null,
      "metadata": {
        "colab": {
          "base_uri": "https://localhost:8080/",
          "height": 238
        },
        "id": "ZjLjs2KXOTWh",
        "outputId": "4a3bf751-f470-4339-8577-bf92c4d00835"
      },
      "outputs": [],
      "source": [
        "df1[\"Area\"] = [357.022, 131.957, 312.685, 49.035, 603.628]\n",
        "df1"
      ]
    },
    {
      "cell_type": "code",
      "execution_count": null,
      "metadata": {
        "colab": {
          "base_uri": "https://localhost:8080/",
          "height": 258
        },
        "id": "0ygaclsYPLqU",
        "outputId": "328c2f5b-ab0a-4c20-d63d-59a933971264"
      },
      "outputs": [],
      "source": [
        "df1[\"Area (n)\"] = df1[\"Area\"] / df1[\"Area\"].min()\n",
        "df1"
      ]
    },
    {
      "cell_type": "code",
      "execution_count": null,
      "metadata": {
        "colab": {
          "base_uri": "https://localhost:8080/",
          "height": 258
        },
        "id": "1OesR62nP-0z",
        "outputId": "0314080c-3b8c-4ccd-b850-6a9f7fc1acc2"
      },
      "outputs": [],
      "source": [
        "df1[\"Confirmed (norm)\"] = df1[\"Confirmed\"] / df1[\"Area (n)\"]\n",
        "df1[\"Deaths (norm)\"] = df1[\"Deaths\"] / df1[\"Area (n)\"]\n",
        "df1[\"Recovered (norm)\"] = df1[\"Recovered\"] / df1[\"Area (n)\"]\n",
        "df1"
      ]
    },
    {
      "cell_type": "code",
      "execution_count": null,
      "metadata": {
        "colab": {
          "base_uri": "https://localhost:8080/",
          "height": 430
        },
        "id": "GCaJS7x4QScH",
        "outputId": "d28bfbb2-2c1f-4a10-e198-0c62d75dc691"
      },
      "outputs": [],
      "source": [
        "plt.bar(df1[\"Country/Region\"], df1[\"Confirmed (norm)\"])\n",
        "plt.show()"
      ]
    },
    {
      "cell_type": "code",
      "execution_count": null,
      "metadata": {
        "colab": {
          "base_uri": "https://localhost:8080/",
          "height": 545
        },
        "id": "kXSrdxooQtyR",
        "outputId": "68db4b9e-cbf6-4d9a-c688-ab92d56ec73f"
      },
      "outputs": [],
      "source": [
        "plt.figure(figsize=(16, 6))\n",
        "\n",
        "plt.subplot(1, 3, 1)\n",
        "plt.title(\"Confirmed\")\n",
        "plt.bar(df1[\"Country/Region\"], df1[\"Confirmed\"])\n",
        "\n",
        "plt.subplot(1, 3, 2)\n",
        "plt.title(\"Deaths\")\n",
        "plt.bar(df1[\"Country/Region\"], df1[\"Deaths\"])\n",
        "\n",
        "plt.subplot(1, 3, 3)\n",
        "plt.title(\"Recovered\")\n",
        "plt.bar(df1[\"Country/Region\"], df1[\"Recovered\"])\n",
        "\n",
        "plt.show()"
      ]
    },
    {
      "cell_type": "code",
      "execution_count": null,
      "metadata": {
        "colab": {
          "base_uri": "https://localhost:8080/",
          "height": 545
        },
        "id": "5C66htezRn6n",
        "outputId": "ad70c565-e865-40a9-8e78-9270d3eb9ff1"
      },
      "outputs": [],
      "source": [
        "plt.figure(figsize=(16, 6))\n",
        "\n",
        "plt.subplot(1, 3, 1)\n",
        "plt.title(\"Confirmed\")\n",
        "plt.bar(df1[\"Country/Region\"], df1[\"Confirmed (norm)\"])\n",
        "\n",
        "plt.subplot(1, 3, 2)\n",
        "plt.title(\"Deaths\")\n",
        "plt.bar(df1[\"Country/Region\"], df1[\"Deaths (norm)\"])\n",
        "\n",
        "plt.subplot(1, 3, 3)\n",
        "plt.title(\"Recovered\")\n",
        "plt.bar(df1[\"Country/Region\"], df1[\"Recovered (norm)\"])\n",
        "\n",
        "plt.show()"
      ]
    },
    {
      "cell_type": "code",
      "execution_count": null,
      "metadata": {
        "colab": {
          "base_uri": "https://localhost:8080/"
        },
        "id": "tRRv4IbSTxVg",
        "outputId": "f4fc0de1-e74e-4ce6-9990-308d53d969c5"
      },
      "outputs": [],
      "source": [
        "df.shape"
      ]
    },
    {
      "cell_type": "code",
      "execution_count": null,
      "metadata": {
        "colab": {
          "base_uri": "https://localhost:8080/",
          "height": 834
        },
        "id": "mfCJLyi-TaTC",
        "outputId": "46f727f9-9916-4db8-d69e-7ceb6a150777"
      },
      "outputs": [],
      "source": [
        "plt.figure(figsize=(10, 8))\n",
        "sns.heatmap(df.iloc[:, 1:-1].corr(), annot=True, fmt=\".1f\", cmap=\"crest\")\n",
        "plt.show()"
      ]
    },
    {
      "cell_type": "code",
      "execution_count": null,
      "metadata": {
        "colab": {
          "base_uri": "https://localhost:8080/",
          "height": 834
        },
        "id": "tVMxP-y6V6Mk",
        "outputId": "217d7dbd-ed95-4fd3-c214-18596280d3bb"
      },
      "outputs": [],
      "source": [
        "plt.figure(figsize=(10, 8))\n",
        "sns.heatmap(df.iloc[:, 1:-1].corr(method=\"spearman\"), annot=True, fmt=\".1f\", cmap=\"crest\")\n",
        "plt.show()"
      ]
    },
    {
      "cell_type": "markdown",
      "metadata": {
        "id": "qsc1RYpxYWnO"
      },
      "source": [
        "## Day Wise"
      ]
    },
    {
      "cell_type": "code",
      "execution_count": null,
      "metadata": {
        "colab": {
          "base_uri": "https://localhost:8080/"
        },
        "id": "GAwEKs-RX9_g",
        "outputId": "8664f15f-21bb-4120-ea7c-285e4f84692a"
      },
      "outputs": [],
      "source": [
        "df_day_wise = pd.read_csv(\"../data/covid19/day_wise.csv\")\n",
        "df_day_wise.info()"
      ]
    },
    {
      "cell_type": "code",
      "execution_count": null,
      "metadata": {
        "colab": {
          "base_uri": "https://localhost:8080/",
          "height": 306
        },
        "id": "UpCp1-2QYVcs",
        "outputId": "3dca8686-11ac-4968-f513-579578f7eed4"
      },
      "outputs": [],
      "source": [
        "df_day_wise.head()"
      ]
    },
    {
      "cell_type": "code",
      "execution_count": null,
      "metadata": {
        "colab": {
          "base_uri": "https://localhost:8080/"
        },
        "id": "IoeD8XjPYneE",
        "outputId": "8633890d-7d20-458b-92ed-15075f6b1528"
      },
      "outputs": [],
      "source": [
        "df_day_wise[\"Date\"] = pd.to_datetime(df_day_wise[\"Date\"])\n",
        "df_day_wise.info()"
      ]
    },
    {
      "cell_type": "code",
      "execution_count": null,
      "metadata": {
        "colab": {
          "base_uri": "https://localhost:8080/"
        },
        "id": "SwoOiDcMaE_Y",
        "outputId": "859bc444-b619-4d12-c4ff-e71ad18c0d05"
      },
      "outputs": [],
      "source": [
        "df_day_wise[\"Confirmed\"].max()"
      ]
    },
    {
      "cell_type": "code",
      "execution_count": null,
      "metadata": {
        "colab": {
          "base_uri": "https://localhost:8080/",
          "height": 691
        },
        "id": "L6P8oVsLZWMx",
        "outputId": "b6de1a64-a3d3-4837-cdbe-a6b480cc9860"
      },
      "outputs": [],
      "source": [
        "plt.figure(figsize=(10, 8))\n",
        "plt.plot(df_day_wise[\"Date\"], df_day_wise[\"Confirmed\"], label=\"Confirmed\")\n",
        "plt.plot(df_day_wise[\"Date\"], df_day_wise[\"Deaths\"], c=\"black\", label=\"Deaths\")\n",
        "plt.plot(df_day_wise[\"Date\"], df_day_wise[\"Recovered\"], c=\"g\", label=\"Recovered\")\n",
        "plt.plot(df_day_wise[\"Date\"], df_day_wise[\"Active\"], c=\"r\", label=\"Active\")\n",
        "plt.legend()\n",
        "plt.show()"
      ]
    }
  ],
  "metadata": {
    "colab": {
      "provenance": []
    },
    "kernelspec": {
      "display_name": "ai-from-scratch",
      "language": "python",
      "name": "python3"
    },
    "language_info": {
      "codemirror_mode": {
        "name": "ipython",
        "version": 3
      },
      "file_extension": ".py",
      "mimetype": "text/x-python",
      "name": "python",
      "nbconvert_exporter": "python",
      "pygments_lexer": "ipython3",
      "version": "3.11.11"
    }
  },
  "nbformat": 4,
  "nbformat_minor": 0
}
